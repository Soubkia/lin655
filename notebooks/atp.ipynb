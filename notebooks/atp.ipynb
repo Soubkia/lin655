{
 "cells": [
  {
   "cell_type": "code",
   "execution_count": 1,
   "id": "82568af9-05cb-45f1-8c06-21b66e2d8531",
   "metadata": {},
   "outputs": [
    {
     "name": "stdout",
     "output_type": "stream",
     "text": [
      "Populating the interactive namespace from numpy and matplotlib\n"
     ]
    }
   ],
   "source": [
    "%pylab inline"
   ]
  },
  {
   "cell_type": "code",
   "execution_count": 2,
   "id": "05a82537-cb51-46db-8b4f-a44bd38ea988",
   "metadata": {},
   "outputs": [],
   "source": [
    "import sys; sys.path.append(\"../libs/ATP-morphology/src/\")\n",
    "import os; os.chdir(\"../libs/ATP-morphology/src/\")"
   ]
  },
  {
   "cell_type": "code",
   "execution_count": 3,
   "id": "bd46255c-60bc-4514-bf34-7e0cf56542cf",
   "metadata": {},
   "outputs": [],
   "source": [
    "from atp import ATP\n",
    "from utils import load_german_CHILDES"
   ]
  },
  {
   "cell_type": "code",
   "execution_count": 4,
   "id": "7d8f4576-5ac1-4627-a927-c5f847a7c6ae",
   "metadata": {},
   "outputs": [],
   "source": [
    "pairs, feature_space = load_german_CHILDES() # load some data"
   ]
  },
  {
   "cell_type": "code",
   "execution_count": 7,
   "id": "8bb07797-4976-45d8-b0a3-b87835226a63",
   "metadata": {},
   "outputs": [
    {
     "data": {
      "text/plain": [
       "<atp.ATP at 0x7fb9d3e963d0>"
      ]
     },
     "execution_count": 7,
     "metadata": {},
     "output_type": "execute_result"
    }
   ],
   "source": [
    "atp = ATP(feature_space=feature_space) # initialize an ATP model\n",
    "atp.train(pairs) # train ATP"
   ]
  },
  {
   "cell_type": "code",
   "execution_count": 6,
   "id": "8567ab3d-fa36-46aa-ad8d-536e2a5365af",
   "metadata": {},
   "outputs": [
    {
     "data": {
      "text/plain": [
       "'Sachen'"
      ]
     },
     "execution_count": 6,
     "metadata": {},
     "output_type": "execute_result"
    }
   ],
   "source": [
    "atp.inflect('Sache', ('F',)) # ATP produces the correct inflection"
   ]
  },
  {
   "cell_type": "code",
   "execution_count": 7,
   "id": "70247b02-3534-4da8-bb2c-8947c3fc2c58",
   "metadata": {},
   "outputs": [
    {
     "data": {
      "text/plain": [
       "'Gleise'"
      ]
     },
     "execution_count": 7,
     "metadata": {},
     "output_type": "execute_result"
    }
   ],
   "source": [
    "atp.inflect('Gleis', ('N',)) # again for a neuter noun"
   ]
  },
  {
   "cell_type": "code",
   "execution_count": 5,
   "id": "ed97d2b3-c8e3-45c3-95e8-9527694f1223",
   "metadata": {},
   "outputs": [
    {
     "data": {
      "text/plain": [
       "('Sache', 'Sachen', ('F',))"
      ]
     },
     "execution_count": 5,
     "metadata": {},
     "output_type": "execute_result"
    }
   ],
   "source": [
    "pairs[0]"
   ]
  },
  {
   "cell_type": "code",
   "execution_count": 6,
   "id": "6dfa8302-4bd2-4702-91af-c35ec6482fc9",
   "metadata": {},
   "outputs": [
    {
     "data": {
      "text/plain": [
       "{'F', 'M', 'N'}"
      ]
     },
     "execution_count": 6,
     "metadata": {},
     "output_type": "execute_result"
    }
   ],
   "source": [
    "feature_space"
   ]
  },
  {
   "cell_type": "code",
   "execution_count": null,
   "id": "acb0d24d-d791-4d9b-b3db-7895f19bc611",
   "metadata": {},
   "outputs": [],
   "source": [
    "k"
   ]
  }
 ],
 "metadata": {
  "kernelspec": {
   "display_name": "Python 3 (ipykernel)",
   "language": "python",
   "name": "python3"
  },
  "language_info": {
   "codemirror_mode": {
    "name": "ipython",
    "version": 3
   },
   "file_extension": ".py",
   "mimetype": "text/x-python",
   "name": "python",
   "nbconvert_exporter": "python",
   "pygments_lexer": "ipython3",
   "version": "3.8.5"
  }
 },
 "nbformat": 4,
 "nbformat_minor": 5
}
