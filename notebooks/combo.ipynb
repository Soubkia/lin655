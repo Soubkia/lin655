{
 "cells": [
  {
   "cell_type": "code",
   "execution_count": 1,
   "id": "2e9ef548-7142-46e2-bbe1-683c7bf9c285",
   "metadata": {},
   "outputs": [
    {
     "name": "stdout",
     "output_type": "stream",
     "text": [
      "Populating the interactive namespace from numpy and matplotlib\n"
     ]
    }
   ],
   "source": [
    "%pylab inline"
   ]
  },
  {
   "cell_type": "code",
   "execution_count": 2,
   "id": "1bb58c2c-4ecb-45f9-9511-cf237b20a5ef",
   "metadata": {},
   "outputs": [],
   "source": [
    "import sys; sys.path.append(\"../libs/ATP-morphology/src/\")\n",
    "import os; os.chdir(\"../libs/ATP-morphology/src/\")"
   ]
  },
  {
   "cell_type": "code",
   "execution_count": 3,
   "id": "b7866e82-3ae3-486c-b0a2-97150c8267df",
   "metadata": {},
   "outputs": [],
   "source": [
    "import math\n",
    "from collections import defaultdict, namedtuple\n",
    "from dataclasses import dataclass, field\n",
    "from enum import Enum\n",
    "from operator import itemgetter\n",
    "\n",
    "import nltk\n",
    "\n",
    "from lin655.cfl import Model"
   ]
  },
  {
   "cell_type": "code",
   "execution_count": 4,
   "id": "3b1e71cf-f69a-4ba3-9662-dac76a3656a2",
   "metadata": {},
   "outputs": [],
   "source": [
    "# mdl = Model()\n",
    "# mdl.train(\" \".join([\" \".join(snt) for snt in nltk.corpus.brown.sents()[:59100]]))"
   ]
  },
  {
   "cell_type": "code",
   "execution_count": null,
   "id": "2694c5f6-66f1-4ebf-b56f-8f9b95243e87",
   "metadata": {},
   "outputs": [],
   "source": [
    "{frm for frm in mdl.frames.keys() if not frm.is_lexical}"
   ]
  },
  {
   "cell_type": "code",
   "execution_count": 10,
   "id": "40e34456-1f23-4f91-bfd1-d314bf82380e",
   "metadata": {},
   "outputs": [
    {
     "data": {
      "text/plain": [
       "81000"
      ]
     },
     "execution_count": 10,
     "metadata": {},
     "output_type": "execute_result"
    }
   ],
   "source": [
    "90 * 60 * 15"
   ]
  },
  {
   "cell_type": "code",
   "execution_count": null,
   "id": "a9bad351-5e01-4256-946b-aaf5ccd4f33f",
   "metadata": {},
   "outputs": [],
   "source": []
  }
 ],
 "metadata": {
  "kernelspec": {
   "display_name": "Python 3 (ipykernel)",
   "language": "python",
   "name": "python3"
  },
  "language_info": {
   "codemirror_mode": {
    "name": "ipython",
    "version": 3
   },
   "file_extension": ".py",
   "mimetype": "text/x-python",
   "name": "python",
   "nbconvert_exporter": "python",
   "pygments_lexer": "ipython3",
   "version": "3.8.5"
  }
 },
 "nbformat": 4,
 "nbformat_minor": 5
}
