{
 "cells": [
  {
   "cell_type": "code",
   "execution_count": 4,
   "id": "9fd679b8-736b-4467-8640-589b521f92d9",
   "metadata": {},
   "outputs": [
    {
     "name": "stdout",
     "output_type": "stream",
     "text": [
      "Populating the interactive namespace from numpy and matplotlib\n"
     ]
    }
   ],
   "source": [
    "%pylab inline"
   ]
  },
  {
   "cell_type": "code",
   "execution_count": 5,
   "id": "1724fb9a-3a9a-44e5-b7e0-d2afb18f71f4",
   "metadata": {},
   "outputs": [],
   "source": [
    "import nltk\n",
    "from lin655.model import Model"
   ]
  },
  {
   "cell_type": "code",
   "execution_count": 6,
   "id": "0fe5d22b-3c76-4562-a1b2-d5b0affb420c",
   "metadata": {},
   "outputs": [
    {
     "name": "stderr",
     "output_type": "stream",
     "text": [
      "887582it [40:07, 368.67it/s] \n"
     ]
    }
   ],
   "source": [
    "mdl = Model()\n",
    "mdl.train(\" \".join([\" \".join(snt) for snt in nltk.corpus.brown.sents()]))"
   ]
  },
  {
   "cell_type": "code",
   "execution_count": 9,
   "id": "b79af43e-6a55-4529-a57f-2719a4756915",
   "metadata": {},
   "outputs": [
    {
     "data": {
      "text/plain": [
       "4245"
      ]
     },
     "execution_count": 9,
     "metadata": {},
     "output_type": "execute_result"
    }
   ],
   "source": [
    "len(mdl.lexicon)"
   ]
  },
  {
   "cell_type": "code",
   "execution_count": 5,
   "id": "c5860f42-e011-4cd7-95bf-0c4c6bc472e1",
   "metadata": {},
   "outputs": [],
   "source": [
    "mdl.generalize()"
   ]
  },
  {
   "cell_type": "code",
   "execution_count": 6,
   "id": "51fa7bf5-b6aa-455b-b03f-f6a0a66e325f",
   "metadata": {},
   "outputs": [
    {
     "data": {
      "text/plain": [
       "183"
      ]
     },
     "execution_count": 6,
     "metadata": {},
     "output_type": "execute_result"
    }
   ],
   "source": [
    "len(mdl.trusted_lexicon)"
   ]
  },
  {
   "cell_type": "code",
   "execution_count": 10,
   "id": "61fc3d91-3dcd-4c64-b0b0-86faa7fb1c51",
   "metadata": {},
   "outputs": [
    {
     "name": "stdout",
     "output_type": "stream",
     "text": [
      "[('use', 'used', ('VERB_PAST',)), ('look', 'looked', ('VERB_PAST',)), ('call', 'called', ('VERB_PAST',)), ('make', 'made', ('VERB_PAST',)), ('be', 'being', ('VERB_PROG',)), ('go', 'going', ('VERB_PROG',)), ('play', 'playing', ('VERB_PROG',)), ('day', 'days', ('NOUN_PLRL',)), ('boy', 'boys', ('NOUN_PLRL',)), ('word', 'words', ('NOUN_PLRL',))]\n"
     ]
    }
   ],
   "source": [
    "mdl = Model()\n",
    "mdl.generalize()\n",
    "mdl.train(\" \".join([\" \".join(snt) for snt in nltk.corpus.brown.sents()]))"
   ]
  },
  {
   "cell_type": "code",
   "execution_count": 11,
   "id": "4339422c-e8be-4b06-a7ba-cf01ee37e724",
   "metadata": {},
   "outputs": [
    {
     "data": {
      "text/plain": [
       "152"
      ]
     },
     "execution_count": 11,
     "metadata": {},
     "output_type": "execute_result"
    }
   ],
   "source": [
    "len(mdl.trusted_lexicon)"
   ]
  },
  {
   "cell_type": "code",
   "execution_count": 12,
   "id": "cf6c2c30-ae06-4353-aa70-0ce1c1b0529d",
   "metadata": {},
   "outputs": [
    {
     "name": "stdout",
     "output_type": "stream",
     "text": [
      "[('use', 'used', ('VERB_PAST',)), ('look', 'looked', ('VERB_PAST',)), ('call', 'called', ('VERB_PAST',)), ('make', 'made', ('VERB_PAST',)), ('be', 'being', ('VERB_PROG',)), ('go', 'going', ('VERB_PROG',)), ('play', 'playing', ('VERB_PROG',)), ('day', 'days', ('NOUN_PLRL',)), ('boy', 'boys', ('NOUN_PLRL',)), ('word', 'words', ('NOUN_PLRL',)), ('come', 'comeed', ('VERB_PAST',)), ('come', 'comeing', ('VERB_PROG',)), ('play', 'played', ('VERB_PAST',)), ('put', 'puted', ('VERB_PAST',)), ('put', 'puting', ('VERB_PROG',)), ('baby', 'babys', ('NOUN_PLRL',)), ('car', 'cars', ('NOUN_PLRL',)), ('train', 'trains', ('NOUN_PLRL',)), ('box', 'boxs', ('NOUN_PLRL',)), ('house', 'houses', ('NOUN_PLRL',)), ('man', 'mans', ('NOUN_PLRL',)), ('book', 'books', ('NOUN_PLRL',)), ('able', 'able', ('VERB_PAST',))]\n"
     ]
    }
   ],
   "source": [
    "mdl.generalize()"
   ]
  },
  {
   "cell_type": "code",
   "execution_count": 13,
   "id": "2788610f-31c8-4853-941c-0ef4ed595f7a",
   "metadata": {},
   "outputs": [
    {
     "data": {
      "text/plain": [
       "183"
      ]
     },
     "execution_count": 13,
     "metadata": {},
     "output_type": "execute_result"
    }
   ],
   "source": [
    "len(mdl.trusted_lexicon)"
   ]
  },
  {
   "cell_type": "code",
   "execution_count": null,
   "id": "ad945c61-2487-4286-bba7-9e49df59bd2f",
   "metadata": {},
   "outputs": [],
   "source": []
  }
 ],
 "metadata": {
  "kernelspec": {
   "display_name": "Python 3 (ipykernel)",
   "language": "python",
   "name": "python3"
  },
  "language_info": {
   "codemirror_mode": {
    "name": "ipython",
    "version": 3
   },
   "file_extension": ".py",
   "mimetype": "text/x-python",
   "name": "python",
   "nbconvert_exporter": "python",
   "pygments_lexer": "ipython3",
   "version": "3.8.5"
  }
 },
 "nbformat": 4,
 "nbformat_minor": 5
}
